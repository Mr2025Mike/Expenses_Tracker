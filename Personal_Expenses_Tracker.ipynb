{
 "cells": [
  {
   "cell_type": "markdown",
   "id": "53bfc8fb-4c2f-4951-9c8f-07fdc810f275",
   "metadata": {},
   "source": [
    "# PERSONAL EXPENSES TRACKER"
   ]
  },
  {
   "cell_type": "markdown",
   "id": "de6d6e02-c14c-4f97-9365-ec2a04d4e8a7",
   "metadata": {},
   "source": [
    "## Create Variables"
   ]
  },
  {
   "cell_type": "code",
   "execution_count": 12,
   "id": "e3a60b74-947f-46f9-8df8-75370af3c07b",
   "metadata": {},
   "outputs": [],
   "source": [
    "user = \"Michael\""
   ]
  },
  {
   "cell_type": "code",
   "execution_count": 13,
   "id": "2f0457a7-30b2-4121-ae20-e41902745b5d",
   "metadata": {},
   "outputs": [
    {
     "name": "stdout",
     "output_type": "stream",
     "text": [
      "Michael\n"
     ]
    }
   ],
   "source": [
    "print(user)"
   ]
  },
  {
   "cell_type": "code",
   "execution_count": 6,
   "id": "e54e5d74-3241-4207-bd67-bbc2a449f890",
   "metadata": {},
   "outputs": [
    {
     "name": "stdout",
     "output_type": "stream",
     "text": [
      "Hello Everyone, Welcome to Python\n"
     ]
    }
   ],
   "source": [
    "print(\"Hello Everyone, Welcome to Python\")"
   ]
  },
  {
   "cell_type": "code",
   "execution_count": null,
   "id": "760095ef-5d99-4127-9e33-9957b135e7ba",
   "metadata": {},
   "outputs": [],
   "source": []
  },
  {
   "cell_type": "code",
   "execution_count": null,
   "id": "99f45ad1-a3f0-4007-bd0b-a7ff952de5c9",
   "metadata": {},
   "outputs": [],
   "source": []
  },
  {
   "cell_type": "code",
   "execution_count": 14,
   "id": "e1418f6a-d1f7-42bb-a24f-0aaaf4e4c0d2",
   "metadata": {},
   "outputs": [],
   "source": [
    "user = \"MICHAEL\"  #str\n",
    "Current_month = \"August 2025\"  #str\n",
    "Currency = \"$\"  #str\n",
    "Budget = 500.00 #float\n",
    "number_of_days_in_month = 31 #int\n",
    "is_budget_set = True #boolean"
   ]
  },
  {
   "cell_type": "code",
   "execution_count": 31,
   "id": "31bd1600-8ec8-4dd5-84bc-7b0d98c672a5",
   "metadata": {},
   "outputs": [
    {
     "name": "stdout",
     "output_type": "stream",
     "text": [
      "Hello Michael\n"
     ]
    }
   ],
   "source": [
    "print(\"Hello\", user)"
   ]
  },
  {
   "cell_type": "code",
   "execution_count": 39,
   "id": "b1279498-3edc-4f61-b36a-5073dab9ccb3",
   "metadata": {},
   "outputs": [
    {
     "name": "stdout",
     "output_type": "stream",
     "text": [
      "Budget for August 2025 : 500.0\n"
     ]
    }
   ],
   "source": [
    "print(\"Budget for\", Current_month, \":\", Budget)"
   ]
  },
  {
   "cell_type": "markdown",
   "id": "7e3b0154-8ec2-4069-a306-301d69dc70ea",
   "metadata": {},
   "source": [
    "## A Single Expense"
   ]
  },
  {
   "cell_type": "code",
   "execution_count": 22,
   "id": "48cb863d-4d44-4ec3-9300-70531d122cd6",
   "metadata": {},
   "outputs": [],
   "source": [
    "Item = \"Rent\"\n",
    "Amount = 200.00\n",
    "Category = \"Housing\"\n",
    "Is_Necessary = True"
   ]
  },
  {
   "cell_type": "code",
   "execution_count": 65,
   "id": "24563a78-cd3a-4673-a7fc-baaf2465b874",
   "metadata": {},
   "outputs": [
    {
     "data": {
      "text/plain": [
       "165.0"
      ]
     },
     "execution_count": 65,
     "metadata": {},
     "output_type": "execute_result"
    }
   ],
   "source": [
    "Closing_balance"
   ]
  },
  {
   "cell_type": "code",
   "execution_count": 64,
   "id": "4a356266-475a-49fd-b0f4-601f6633365e",
   "metadata": {},
   "outputs": [],
   "source": [
    "Closing_balance= Budget - Total_Expenses "
   ]
  },
  {
   "cell_type": "code",
   "execution_count": null,
   "id": "1f513412-c5af-4323-96f4-d6d96d29f904",
   "metadata": {},
   "outputs": [],
   "source": []
  },
  {
   "cell_type": "markdown",
   "id": "3311e2dd-35db-4a95-9edc-0828d5938a9f",
   "metadata": {},
   "source": [
    "## Multiple Expenses"
   ]
  },
  {
   "cell_type": "code",
   "execution_count": null,
   "id": "d8d1833a-1c4d-4e29-953a-cf767f70bb78",
   "metadata": {},
   "outputs": [],
   "source": []
  },
  {
   "cell_type": "code",
   "execution_count": 51,
   "id": "61e34016-de95-4345-86a7-9ab0a33dfaf7",
   "metadata": {},
   "outputs": [],
   "source": [
    "items =[\"Rent\", \"Electricity\", \"Clothes\", \"Data bundle\", \"KFC\", \"Netflix\"] ## list\n",
    "prices = [200.0, 40.0, 50.0, 20.0, 10.0, 15.0]\n",
    "categories = [\"Housing\", \"Utility\", \"Basic\", \"Utility\", \"Food\", \"Entertainment\"]\n",
    "necessary = [True, True, True, True, False, False]"
   ]
  },
  {
   "cell_type": "code",
   "execution_count": 55,
   "id": "18d51a55-ff6d-4d24-9055-189e7796cdd3",
   "metadata": {},
   "outputs": [
    {
     "data": {
      "text/plain": [
       "335"
      ]
     },
     "execution_count": 55,
     "metadata": {},
     "output_type": "execute_result"
    }
   ],
   "source": [
    "prices[0]+prices[1]+prices[2]+prices[3]+prices[4]+prices[5]"
   ]
  },
  {
   "cell_type": "code",
   "execution_count": 60,
   "id": "e56f6f23-b54f-49c2-83fe-424ae7840128",
   "metadata": {},
   "outputs": [],
   "source": [
    "Total_Expenses = sum(prices)"
   ]
  },
  {
   "cell_type": "code",
   "execution_count": 61,
   "id": "42fbbe90-bc43-4d0c-b4f0-7eea24745f6e",
   "metadata": {},
   "outputs": [
    {
     "data": {
      "text/plain": [
       "335"
      ]
     },
     "execution_count": 61,
     "metadata": {},
     "output_type": "execute_result"
    }
   ],
   "source": [
    "Total_Expenses"
   ]
  },
  {
   "cell_type": "code",
   "execution_count": 71,
   "id": "43cbb056-6806-4268-ab25-7bd04878d874",
   "metadata": {},
   "outputs": [],
   "source": [
    "num_of_items = len(items)"
   ]
  },
  {
   "cell_type": "code",
   "execution_count": 72,
   "id": "0b4f0564-2415-4d73-932e-705954d71cb0",
   "metadata": {},
   "outputs": [
    {
     "data": {
      "text/plain": [
       "6"
      ]
     },
     "execution_count": 72,
     "metadata": {},
     "output_type": "execute_result"
    }
   ],
   "source": [
    "num_of_items"
   ]
  },
  {
   "cell_type": "code",
   "execution_count": null,
   "id": "81eefc70-d7bd-42cf-b2f8-462c39227687",
   "metadata": {},
   "outputs": [],
   "source": []
  },
  {
   "cell_type": "code",
   "execution_count": null,
   "id": "44d06feb-0593-45e7-9ea0-d69e036b14a5",
   "metadata": {},
   "outputs": [],
   "source": []
  },
  {
   "cell_type": "code",
   "execution_count": 78,
   "id": "bdc460f5-ce6f-4933-bc87-c2fa037f00b3",
   "metadata": {},
   "outputs": [
    {
     "name": "stdout",
     "output_type": "stream",
     "text": [
      "===================================\n",
      "         Express Tracker\n",
      "===================================\n",
      "Owner                 MICHAEL\n",
      "Period                August 2025\n",
      "-----------------------------------\n",
      "Currency              $\n",
      "Starting Balance      500.0\n",
      "Total Expenses        335\n",
      "-----------------------------------\n",
      "Closing Balance       165.0\n",
      "Transactions          6\n",
      "===================================\n",
      "        See you next time\n",
      "===================================\n"
     ]
    }
   ],
   "source": [
    "print(\"=\" * 35)\n",
    "print(\"         Express Tracker\")\n",
    "print(\"=\" * 35)\n",
    "print(\"Owner\",\"               \",    user)\n",
    "print(\"Period\",\"              \",    Current_month)\n",
    "print(\"-\" * 35)\n",
    "print(\"Currency\",\"            \",    Currency)\n",
    "print(\"Starting Balance\",\"    \",  Budget)\n",
    "print(\"Total Expenses\",\"      \",  Total_Expenses)\n",
    "print(\"-\" * 35)\n",
    "print(\"Closing Balance\",\"     \",  Closing_balance)   \n",
    "print(\"Transactions\",\"        \",  num_of_items)\n",
    "print(\"=\" * 35)\n",
    "print(\"        See you next time\")\n",
    "print(\"=\" * 35)\n"
   ]
  },
  {
   "cell_type": "code",
   "execution_count": null,
   "id": "3dd3536d-7dda-4314-93de-0545701e138f",
   "metadata": {},
   "outputs": [],
   "source": []
  },
  {
   "cell_type": "code",
   "execution_count": null,
   "id": "a10627b7-c34b-4c73-aa49-fbd4d62b5c84",
   "metadata": {},
   "outputs": [],
   "source": []
  }
 ],
 "metadata": {
  "kernelspec": {
   "display_name": "Python [conda env:base] *",
   "language": "python",
   "name": "conda-base-py"
  },
  "language_info": {
   "codemirror_mode": {
    "name": "ipython",
    "version": 3
   },
   "file_extension": ".py",
   "mimetype": "text/x-python",
   "name": "python",
   "nbconvert_exporter": "python",
   "pygments_lexer": "ipython3",
   "version": "3.12.7"
  }
 },
 "nbformat": 4,
 "nbformat_minor": 5
}
